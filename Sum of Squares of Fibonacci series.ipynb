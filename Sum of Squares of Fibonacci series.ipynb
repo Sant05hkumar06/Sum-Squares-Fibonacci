{
 "cells": [
  {
   "cell_type": "markdown",
   "id": "billion-carry",
   "metadata": {},
   "source": [
    "## Create a generator to find out the sum of squares of numbers in fibonacci seq"
   ]
  },
  {
   "cell_type": "code",
   "execution_count": 1,
   "id": "acoustic-bulgarian",
   "metadata": {},
   "outputs": [
    {
     "name": "stdout",
     "output_type": "stream",
     "text": [
      "0 0\n",
      "1 1\n",
      "1 2\n",
      "2 6\n",
      "3 15\n",
      "5 40\n",
      "8 104\n",
      "13 273\n",
      "21 714\n",
      "34 1870\n",
      "55 4895\n",
      "89 12816\n"
     ]
    }
   ],
   "source": [
    "def fib():\n",
    "    x,y=0,1\n",
    "    while True:\n",
    "        yield x\n",
    "        x,y = y,(x+y)\n",
    "sum=0    \n",
    "for i in fib():\n",
    "    if i>100:\n",
    "        break\n",
    "    sum+= (i**2)\n",
    "    print(i, sum)"
   ]
  },
  {
   "cell_type": "code",
   "execution_count": 2,
   "id": "molecular-regular",
   "metadata": {},
   "outputs": [
    {
     "name": "stdout",
     "output_type": "stream",
     "text": [
      "Sum of squares of Fibonacci numbers is :\n",
      "2\n",
      "6\n",
      "15\n",
      "40\n",
      "104\n",
      "273\n",
      "714\n",
      "1870\n",
      "4895\n",
      "12816\n"
     ]
    }
   ],
   "source": [
    "def calculateSquareSum(n):\n",
    "    fib=[0]*(n+1)\n",
    "    fib[0] = 0\n",
    "    fib[1] = 1\n",
    "\n",
    "    # Initialize result\n",
    "    sum = ((fib[0] * fib[0]) + (fib[1] * fib[1]))\n",
    "\n",
    "    # Add remaining terms\n",
    "    for i in range(2, n + 1):\n",
    "        fib[i] = (fib[i - 1] +fib[i - 2])\n",
    "        sum += (fib[i] * fib[i]);        \n",
    "        yield sum\n",
    "n=11\n",
    "print(\"Sum of squares of Fibonacci numbers is :\")\n",
    "y=calculateSquareSum(n)\n",
    "for i in y:\n",
    "    print(i)"
   ]
  }
 ],
 "metadata": {
  "kernelspec": {
   "display_name": "Python 3",
   "language": "python",
   "name": "python3"
  },
  "language_info": {
   "codemirror_mode": {
    "name": "ipython",
    "version": 3
   },
   "file_extension": ".py",
   "mimetype": "text/x-python",
   "name": "python",
   "nbconvert_exporter": "python",
   "pygments_lexer": "ipython3",
   "version": "3.9.2"
  }
 },
 "nbformat": 4,
 "nbformat_minor": 5
}
